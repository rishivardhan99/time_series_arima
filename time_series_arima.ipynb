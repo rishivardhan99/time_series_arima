{
 "cells": [
  {
   "cell_type": "code",
   "execution_count": null,
   "id": "d8e8de14",
   "metadata": {},
   "outputs": [],
   "source": [
    "import pandas as pd\n",
    "import numpy as np\n",
    "import matplotlib.pyplot as plt\n",
    "import seaborn as sns\n",
    "import statsmodels.api as sm\n",
    "from statsmodels.tsa.stattools import adfuller\n",
    "from statsmodels.graphics.tsaplots import plot_acf, plot_pacf\n",
    "sns.set()"
   ]
  },
  {
   "cell_type": "code",
   "execution_count": null,
   "id": "650cf375",
   "metadata": {},
   "outputs": [],
   "source": [
    "df = pd.read_csv('data/apple_stock_short.csv', parse_dates=['Date'])\n",
    "df.set_index('Date', inplace=True)\n",
    "df = df.asfreq('B')\n",
    "df['Close'].interpolate(inplace=True)\n",
    "df.head()"
   ]
  },
  {
   "cell_type": "code",
   "execution_count": null,
   "id": "d383a1db",
   "metadata": {},
   "outputs": [],
   "source": [
    "plt.figure(figsize=(10,4))\n",
    "plt.plot(df.index, df['Close'])\n",
    "plt.title('AAPL - Close Prices (sample)')\n",
    "plt.xlabel('Date')\n",
    "plt.ylabel('Close')\n",
    "plt.tight_layout()\n",
    "plt.savefig('screenshots/price_plot.png')\n",
    "plt.show()"
   ]
  },
  {
   "cell_type": "code",
   "execution_count": null,
   "id": "3cf7e128",
   "metadata": {},
   "outputs": [],
   "source": [
    "decomp = sm.tsa.seasonal_decompose(df['Close'], model='additive', period=20)\n",
    "fig = decomp.plot()\n",
    "fig.set_size_inches(10,6)\n",
    "plt.tight_layout()\n",
    "plt.savefig('screenshots/trend_decomposition.png')\n",
    "plt.show()"
   ]
  },
  {
   "cell_type": "code",
   "execution_count": null,
   "id": "622fb59c",
   "metadata": {},
   "outputs": [],
   "source": [
    "result = adfuller(df['Close'].dropna())\n",
    "print('ADF Statistic:', result[0])\n",
    "print('p-value:', result[1])"
   ]
  },
  {
   "cell_type": "code",
   "execution_count": null,
   "id": "4bb6465f",
   "metadata": {},
   "outputs": [],
   "source": [
    "plt.figure(); plot_acf(df['Close'].dropna(), lags=30); plt.savefig('screenshots/acf.png'); plt.show()\n",
    "plt.figure(); plot_pacf(df['Close'].dropna(), lags=30, method='ywm'); plt.savefig('screenshots/pacf.png'); plt.show()"
   ]
  },
  {
   "cell_type": "code",
   "execution_count": null,
   "id": "bcb85ab7",
   "metadata": {},
   "outputs": [],
   "source": [
    "train = df['Close'][:-30]\n",
    "test = df['Close'][-30:]\n",
    "model = sm.tsa.ARIMA(train, order=(1,1,1)).fit()\n",
    "print(model.summary())\n",
    "fc = model.get_forecast(steps=30)\n",
    "fc_mean = fc.predicted_mean\n",
    "ci = fc.conf_int()\n",
    "plt.figure(figsize=(10,4))\n",
    "plt.plot(train.index, train, label='Train')\n",
    "plt.plot(test.index, test, label='Test')\n",
    "plt.plot(fc_mean.index, fc_mean, label='Forecast')\n",
    "plt.fill_between(ci.index, ci.iloc[:,0], ci.iloc[:,1], color='k', alpha=0.1)\n",
    "plt.legend()\n",
    "plt.title('ARIMA Forecast')\n",
    "plt.savefig('screenshots/forecast.png')\n",
    "plt.show()"
   ]
  }
 ],
 "metadata": {},
 "nbformat": 4,
 "nbformat_minor": 5
}
